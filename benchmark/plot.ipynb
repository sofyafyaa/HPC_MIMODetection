import matplotlib.pyplot as plt
import re

# Read and parse the data
sizes = []
fftw_times = []
cufft_times = []
speedups = []

with open("results/fft_results.txt", "r") as file:
    for line in file:
        match = re.search(
            r"Size:\s*(\d+)\s*\|\s*FFTW:\s*([\deE\.\-]+)\s*s\s*\|\s*cuFFT:\s*([\deE\.\-]+)\s*s\s*\|\s*Speedup:\s*([\deE\.\-]+)x",
            line,
        )
        if match:
            sizes.append(int(match.group(1)))
            fftw_times.append(float(match.group(2)))
            cufft_times.append(float(match.group(3)))
            speedups.append(float(match.group(4)))

# Plot FFTW and cuFFT times
plt.figure(figsize=(10, 6))
plt.plot(sizes, fftw_times, 'o-', label="FFTW", color='blue')
plt.plot(sizes, cufft_times, 's-', label="cuFFT", color='green')
plt.xlabel("FFT Size")
plt.ylabel("Execution Time (s)")
plt.title("FFTW vs cuFFT Execution Time")
plt.xscale("log", base=2)
plt.yscale("log")
plt.grid(True, which='both', linestyle='--', linewidth=0.5)
plt.legend()
plt.tight_layout()
plt.savefig("fft_time_comparison.png")
plt.show()

# Plot Speedup
plt.figure(figsize=(10, 6))
plt.plot(sizes, speedups, 'd-', color='red', label="Speedup (FFTW / cuFFT)")
plt.xlabel("FFT Size")
plt.ylabel("Speedup")
plt.title("cuFFT Speedup over FFTW")
plt.xscale("log", base=2)
plt.grid(True, which='both', linestyle='--', linewidth=0.5)
plt.legend()
plt.tight_layout()
plt.savefig("fft_speedup.png")
plt.show()
